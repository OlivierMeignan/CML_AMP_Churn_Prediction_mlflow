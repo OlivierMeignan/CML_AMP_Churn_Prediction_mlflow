{
 "cells": [
  {
   "cell_type": "code",
   "execution_count": 1,
   "id": "a13fa4f0-27da-468a-b672-ad48e734930d",
   "metadata": {
    "tags": []
   },
   "outputs": [],
   "source": [
    "def explain(args):\n",
    "    data = dict(ChainMap(args, em.default_data))\n",
    "    data = em.cast_dct(data)\n",
    "    probability, explanation = em.explain_dct(data)\n",
    "\n",
    "    # Track inputs\n",
    "    cdsw.track_metric(\"input_data\", data)\n",
    "\n",
    "    # Track our prediction\n",
    "    cdsw.track_metric(\"probability\", probability)\n",
    "\n",
    "    # Track explanation\n",
    "    cdsw.track_metric(\"explanation\", explanation)\n",
    "\n",
    "    return {\"data\": dict(data), \"probability\": probability, \"explanation\": explanation}\n"
   ]
  },
  {
   "cell_type": "code",
   "execution_count": 4,
   "id": "2dfca65c-12c9-4a43-af10-7947b71d5c0f",
   "metadata": {
    "tags": []
   },
   "outputs": [
    {
     "data": {
      "text/plain": [
       "{'gender': 'Female',\n",
       " 'SeniorCitizen': '0',\n",
       " 'Partner': 'No',\n",
       " 'Dependents': 'No',\n",
       " 'PhoneService': 'No',\n",
       " 'MultipleLines': 'No',\n",
       " 'InternetService': 'DSL',\n",
       " 'OnlineSecurity': 'No',\n",
       " 'OnlineBackup': 'No',\n",
       " 'DeviceProtection': 'No',\n",
       " 'TechSupport': 'No',\n",
       " 'StreamingTV': 'No',\n",
       " 'StreamingMovies': 'No',\n",
       " 'Contract': 'Month-to-month',\n",
       " 'PaperlessBilling': 'No',\n",
       " 'PaymentMethod': 'Bank transfer (automatic)',\n",
       " 'tenure': 29.0,\n",
       " 'MonthlyCharges': 70.35,\n",
       " 'TotalCharges': 1397.475}"
      ]
     },
     "execution_count": 4,
     "metadata": {},
     "output_type": "execute_result"
    }
   ],
   "source": [
    "em.default_data"
   ]
  },
  {
   "cell_type": "code",
   "execution_count": 3,
   "id": "c745db1a-2937-43ce-9c4c-d4268c4ab38d",
   "metadata": {
    "tags": []
   },
   "outputs": [],
   "source": [
    "from collections import ChainMap\n",
    "import cdsw, numpy\n",
    "from churnexplainer import ExplainedModel\n",
    "\n",
    "# Load the model saved earlier.\n",
    "em = ExplainedModel.load(model_name=\"telco_linear\")"
   ]
  },
  {
   "cell_type": "code",
   "execution_count": 5,
   "id": "937ba1d3-425b-415e-97c0-5cdbe84aaee9",
   "metadata": {
    "tags": []
   },
   "outputs": [
    {
     "data": {
      "text/plain": [
       "dict"
      ]
     },
     "execution_count": 5,
     "metadata": {},
     "output_type": "execute_result"
    }
   ],
   "source": [
    "type (em.default_data)"
   ]
  },
  {
   "cell_type": "code",
   "execution_count": 9,
   "id": "6708fe1b-0a74-4b4a-a8b1-3f407d173f49",
   "metadata": {
    "tags": []
   },
   "outputs": [],
   "source": [
    "d={'gender': 'Female',\n",
    " 'SeniorCitizen': '0',\n",
    " 'Partner': 'No',\n",
    " 'Dependents': 'No',\n",
    " 'PhoneService': 'No',\n",
    " 'MultipleLines': 'No',\n",
    " 'InternetService': 'DSL',\n",
    " 'OnlineSecurity': 'No',\n",
    " 'OnlineBackup': 'No',\n",
    " 'DeviceProtection': 'No',\n",
    " 'TechSupport': 'No',\n",
    " 'StreamingTV': 'No',\n",
    " 'StreamingMovies': 'No',\n",
    " 'Contract': 'Month-to-month',\n",
    " 'PaperlessBilling': 'No',\n",
    " 'PaymentMethod': 'Bank transfer (automatic)',\n",
    " 'tenure': 29.0,\n",
    " 'MonthlyCharges': 70.35,\n",
    " 'TotalCharges': 1397.475}\n"
   ]
  },
  {
   "cell_type": "code",
   "execution_count": 10,
   "id": "c9c1e1c7-efe2-4bbe-9e47-3d719d47c1d0",
   "metadata": {
    "tags": []
   },
   "outputs": [
    {
     "data": {
      "text/plain": [
       "{'data': {'gender': 'Female',\n",
       "  'SeniorCitizen': '0',\n",
       "  'Partner': 'No',\n",
       "  'Dependents': 'No',\n",
       "  'PhoneService': 'No',\n",
       "  'MultipleLines': 'No',\n",
       "  'InternetService': 'DSL',\n",
       "  'OnlineSecurity': 'No',\n",
       "  'OnlineBackup': 'No',\n",
       "  'DeviceProtection': 'No',\n",
       "  'TechSupport': 'No',\n",
       "  'StreamingTV': 'No',\n",
       "  'StreamingMovies': 'No',\n",
       "  'Contract': 'Month-to-month',\n",
       "  'PaperlessBilling': 'No',\n",
       "  'PaymentMethod': 'Bank transfer (automatic)',\n",
       "  'tenure': 29.0,\n",
       "  'MonthlyCharges': 70.35,\n",
       "  'TotalCharges': 1397.475},\n",
       " 'probability': 0.03872027111055903,\n",
       " 'explanation': {'InternetService': -0.15952912718866838,\n",
       "  'tenure': 0.11504508574434827,\n",
       "  'Contract': 0.10762416414135523,\n",
       "  'TotalCharges': -0.07232000349595127,\n",
       "  'MonthlyCharges': 0.06609236323171043,\n",
       "  'PhoneService': -0.05289178157939718,\n",
       "  'OnlineSecurity': 0.049613092099150234,\n",
       "  'TechSupport': 0.035670261147744485,\n",
       "  'StreamingTV': -0.033065113208190645,\n",
       "  'PaperlessBilling': -0.032065013035259646}}"
      ]
     },
     "execution_count": 10,
     "metadata": {},
     "output_type": "execute_result"
    }
   ],
   "source": [
    "explain(d)"
   ]
  },
  {
   "cell_type": "code",
   "execution_count": null,
   "id": "4aa59260-de9a-47c1-91b0-a41d9d7676c1",
   "metadata": {},
   "outputs": [],
   "source": []
  }
 ],
 "metadata": {
  "kernelspec": {
   "display_name": "Python 3 (ipykernel)",
   "language": "python",
   "name": "python3"
  },
  "language_info": {
   "codemirror_mode": {
    "name": "ipython",
    "version": 3
   },
   "file_extension": ".py",
   "mimetype": "text/x-python",
   "name": "python",
   "nbconvert_exporter": "python",
   "pygments_lexer": "ipython3",
   "version": "3.7.16"
  }
 },
 "nbformat": 4,
 "nbformat_minor": 5
}
